{
  "nbformat": 4,
  "nbformat_minor": 0,
  "metadata": {
    "kernelspec": {
      "display_name": "Python 3",
      "language": "python",
      "name": "python3"
    },
    "language_info": {
      "name": "python",
      "version": "3.6.4",
      "mimetype": "text/x-python",
      "codemirror_mode": {
        "name": "ipython",
        "version": 3
      },
      "pygments_lexer": "ipython3",
      "nbconvert_exporter": "python",
      "file_extension": ".py"
    },
    "colab": {
      "name": "ADS_ExpLearning3&4_FashionData.ipynb",
      "provenance": []
    }
  },
  "cells": [
    {
      "cell_type": "code",
      "metadata": {
        "ExecuteTime": {
          "end_time": "2018-04-15T08:50:31.787128Z",
          "start_time": "2018-04-15T08:50:30.986862Z"
        },
        "_cell_guid": "b1076dfc-b9ad-4769-8c92-a6c4dae69d19",
        "_uuid": "8f2839f25d086af736a60e9eeb907d3b93b6e0e5",
        "trusted": true,
        "id": "Etkt9MELPRtQ"
      },
      "source": [
        "import numpy as np # linear algebra\n",
        "import pandas as pd # data processing, CSV file I/O (e.g. pd.read_csv)\n",
        "\n",
        "import os\n",
        "print(os.listdir(\"../input\"))"
      ],
      "execution_count": null,
      "outputs": []
    },
    {
      "cell_type": "markdown",
      "metadata": {
        "_uuid": "2583ad85e3209979cbc77ce6ce9764a2b682fefd",
        "_cell_guid": "c50794c8-c53e-4dc9-99f7-1db746d0bae3",
        "id": "TPpAYmfbPRtT"
      },
      "source": [
        "# Intro"
      ]
    },
    {
      "cell_type": "code",
      "metadata": {
        "ExecuteTime": {
          "end_time": "2018-04-15T08:50:42.005135Z",
          "start_time": "2018-04-15T08:50:31.788394Z"
        },
        "_cell_guid": "79c7e3d0-c299-4dcb-8224-4455121ee9b0",
        "_uuid": "d629ff2d2480ee46fbb7e2d37f6b5fab8052498a",
        "trusted": true,
        "id": "6dQzteFLPRtU"
      },
      "source": [
        "#data reading\n",
        "train_df = pd.read_csv('../input/fashion-mnist_train.csv')\n",
        "test_df = pd.read_csv('../input/fashion-mnist_train.csv')\n",
        "\n",
        "#Nrows, Ncols @ train\n",
        "train_df.shape"
      ],
      "execution_count": null,
      "outputs": []
    },
    {
      "cell_type": "code",
      "metadata": {
        "ExecuteTime": {
          "end_time": "2018-04-15T08:50:42.013884Z",
          "start_time": "2018-04-15T08:50:42.006694Z"
        },
        "_cell_guid": "499b4ac2-c598-41b1-97ed-e4345128d451",
        "_uuid": "b067e528fc8d0afed9375377298eaf33080b9aab",
        "trusted": true,
        "id": "MlZD32DqPRtU"
      },
      "source": [
        "train_df.shape"
      ],
      "execution_count": null,
      "outputs": []
    },
    {
      "cell_type": "code",
      "metadata": {
        "_uuid": "09cda37308892864512e1f7230a9cdbbce985ed2",
        "ExecuteTime": {
          "end_time": "2018-04-15T08:50:42.023818Z",
          "start_time": "2018-04-15T08:50:42.014937Z"
        },
        "_cell_guid": "c4a09618-28fb-4fc0-9383-6745e1f9d77c",
        "trusted": true,
        "id": "sSEreOxOPRtU"
      },
      "source": [
        "label_dict = {0: 'tshirt',\n",
        "              1: 'trouser',\n",
        "              2: 'pullover',\n",
        "              3: 'dress',\n",
        "              4: 'coat',\n",
        "              5: 'sandal',\n",
        "              6: 'shirt',\n",
        "              7: 'sneaker',\n",
        "              8: 'bag',\n",
        "              9: 'boot'}"
      ],
      "execution_count": null,
      "outputs": []
    },
    {
      "cell_type": "code",
      "metadata": {
        "ExecuteTime": {
          "end_time": "2018-04-15T08:50:42.064655Z",
          "start_time": "2018-04-15T08:50:42.025351Z"
        },
        "_cell_guid": "f1423f39-d82d-4348-af7d-3e31474b06fa",
        "_uuid": "83ea537e7883a673c4779b7a75e8683a06c29775",
        "trusted": true,
        "id": "ekAmzE5cPRtV"
      },
      "source": [
        "#header\n",
        "train_df.head()"
      ],
      "execution_count": null,
      "outputs": []
    },
    {
      "cell_type": "markdown",
      "metadata": {
        "_uuid": "ca185a719675d8c5ea5ba0a99db0f112ef045f69",
        "_cell_guid": "7fa82c0c-ec93-42d1-abe6-57724936c862",
        "id": "agMapya7PRtV"
      },
      "source": [
        "# Data Visualization"
      ]
    },
    {
      "cell_type": "code",
      "metadata": {
        "_uuid": "5492ead33b9c95400b080bf47e608d46cca32fba",
        "ExecuteTime": {
          "end_time": "2018-04-15T08:50:42.278746Z",
          "start_time": "2018-04-15T08:50:42.067225Z"
        },
        "_cell_guid": "2c361b55-83cd-4e34-af40-f501b1b3afe7",
        "trusted": true,
        "id": "GccP5M30PRtV"
      },
      "source": [
        "#plot an image\n",
        "import matplotlib.pyplot as plt\n",
        "import matplotlib.image as mpimg"
      ],
      "execution_count": null,
      "outputs": []
    },
    {
      "cell_type": "code",
      "metadata": {
        "_uuid": "b4bdf57af004c3b2b49aaf1755ddcda029294c33",
        "ExecuteTime": {
          "end_time": "2018-04-15T08:50:42.284954Z",
          "start_time": "2018-04-15T08:50:42.279816Z"
        },
        "_cell_guid": "4e4a23d4-1270-4335-8e05-616be172bfe4",
        "trusted": true,
        "id": "w9hOUBD0PRtV"
      },
      "source": [
        "def get_pixel_cols():\n",
        "    \"\"\"\n",
        "    This function returns the pixel column names\n",
        "    \"\"\"\n",
        "    return ['pixel' + str(i) for i in range(1, 785)]"
      ],
      "execution_count": null,
      "outputs": []
    },
    {
      "cell_type": "code",
      "metadata": {
        "_uuid": "b4b54402d75a60d45c3f71f8ca9c449e0355fd66",
        "ExecuteTime": {
          "end_time": "2018-04-15T08:50:42.294394Z",
          "start_time": "2018-04-15T08:50:42.286203Z"
        },
        "_cell_guid": "66cbb499-b3fd-4d05-882c-82ad575223a0",
        "trusted": true,
        "id": "HdgMxxuLPRtW"
      },
      "source": [
        "def idx_to_pixseries(df, idx):\n",
        "    \"\"\"\n",
        "    Given a pandas dataframe, and an index, it returns the pixel series for that index\n",
        "    \"\"\"\n",
        "    return df.iloc[idx][get_pixel_cols()]"
      ],
      "execution_count": null,
      "outputs": []
    },
    {
      "cell_type": "code",
      "metadata": {
        "_uuid": "060ddbea8120a1d76dfdec3ad826d4154c9c05f6",
        "ExecuteTime": {
          "end_time": "2018-04-15T08:50:42.306496Z",
          "start_time": "2018-04-15T08:50:42.296009Z"
        },
        "_cell_guid": "ab4409c9-39ed-4099-8109-3840b6c817c7",
        "trusted": true,
        "id": "oHLcuVrvPRtW"
      },
      "source": [
        "def plot_image_pd(pixels_series):\n",
        "    \"\"\"\n",
        "    This functions plots an image, given a series with all the pixels\n",
        "    \"\"\"\n",
        "    pix_mat = pixels_series.values.reshape(28, 28)\n",
        "    imgplot = plt.imshow(pix_mat, cmap='gray')"
      ],
      "execution_count": null,
      "outputs": []
    },
    {
      "cell_type": "code",
      "metadata": {
        "ExecuteTime": {
          "end_time": "2018-04-15T08:50:42.522572Z",
          "start_time": "2018-04-15T08:50:42.307799Z"
        },
        "_cell_guid": "8aabd38e-2487-437d-841f-28fa00766884",
        "_uuid": "b004174c9010327b0e34a930fae161cf660793d5",
        "trusted": true,
        "id": "1V82BxiQPRtW"
      },
      "source": [
        "plot_image_pd(idx_to_pixseries(train_df, 3))"
      ],
      "execution_count": null,
      "outputs": []
    },
    {
      "cell_type": "code",
      "metadata": {
        "_uuid": "002e471165018db4c89ba9da961aaa6ad499cdfb",
        "ExecuteTime": {
          "end_time": "2018-04-15T08:50:42.528982Z",
          "start_time": "2018-04-15T08:50:42.523962Z"
        },
        "_cell_guid": "e0d669ff-1fb4-4cc9-b443-eef83110040f",
        "trusted": true,
        "id": "raTu_NMNPRtW"
      },
      "source": [
        "labels = train_df.label.value_counts().index.values.tolist()\n",
        "labels = sorted(labels)"
      ],
      "execution_count": null,
      "outputs": []
    },
    {
      "cell_type": "code",
      "metadata": {
        "ExecuteTime": {
          "end_time": "2018-04-15T08:50:43.221963Z",
          "start_time": "2018-04-15T08:50:42.530534Z"
        },
        "_cell_guid": "6d92c984-552a-41a7-83f5-9aa689ed2bcc",
        "_uuid": "4c42af2d80a2e72378c5d716d9552241c2d78d65",
        "trusted": true,
        "id": "LUmHokSUPRtX"
      },
      "source": [
        "plt.figure(figsize=(10,10))\n",
        "plt.plot([4, 3, 11])\n",
        "for lab in labels:\n",
        "    ax = plt.subplot(4, 3, lab+1)\n",
        "    ax.set_title(str(lab) + \" - \" + label_dict[lab])\n",
        "    plt.axis('off')\n",
        "    plot_image_pd(idx_to_pixseries(train_df, train_df[train_df.label == lab].index[0]))"
      ],
      "execution_count": null,
      "outputs": []
    },
    {
      "cell_type": "code",
      "metadata": {
        "ExecuteTime": {
          "end_time": "2018-04-15T08:50:46.385742Z",
          "start_time": "2018-04-15T08:50:43.223244Z"
        },
        "_cell_guid": "641640f1-402a-48ae-b382-96073faaa043",
        "_uuid": "5fd70fb5f0b30e5a9432b90d1b776ef1c0a1a6b8",
        "trusted": true,
        "id": "i4ZgFwaAPRtX"
      },
      "source": [
        "#N images per row\n",
        "N_im_lab = 6\n",
        "N_labs = len(labels)\n",
        "plt.figure(figsize=(11,11))\n",
        "plt.plot([N_labs, N_im_lab, (N_im_lab * N_labs) + 1])\n",
        "\n",
        "#for every label\n",
        "for lab in labels:\n",
        "    #show N_im_lab first samples\n",
        "    for i in range(N_im_lab):\n",
        "        ax = plt.subplot(N_labs, N_im_lab, 1 + (i + (lab*N_im_lab)))\n",
        "        plt.axis('off')\n",
        "        plot_image_pd(idx_to_pixseries(train_df, train_df[train_df.label == lab].index[i]))"
      ],
      "execution_count": null,
      "outputs": []
    },
    {
      "cell_type": "code",
      "metadata": {
        "ExecuteTime": {
          "end_time": "2018-04-15T08:50:47.195764Z",
          "start_time": "2018-04-15T08:50:46.387509Z"
        },
        "_cell_guid": "96dbb03f-8add-4d0e-9fa2-f636b8503237",
        "_uuid": "5663c1c3f48d32c36c19f640e557442e9ce4541d",
        "trusted": true,
        "id": "lVS_3lzCPRtX"
      },
      "source": [
        "plt.figure(figsize=(10,10))\n",
        "plt.plot([4, 3, 11])\n",
        "for lab in labels:\n",
        "    ax = plt.subplot(4, 3, lab+1)\n",
        "    ax.set_title(\"Avg. \" + str(lab) + \" - \" + label_dict[lab])\n",
        "    plt.axis('off')\n",
        "    avg_pixels = train_df.loc[train_df.label == lab][get_pixel_cols()].mean()\n",
        "    plot_image_pd(avg_pixels)"
      ],
      "execution_count": null,
      "outputs": []
    },
    {
      "cell_type": "markdown",
      "metadata": {
        "_uuid": "43b0acf4010f8bb53dce53c206c9eca976525d6b",
        "_cell_guid": "31f13e2a-d005-41a8-825d-a43a89f8e566",
        "id": "TVZzInYMPRtY"
      },
      "source": [
        "# Modeling"
      ]
    },
    {
      "cell_type": "markdown",
      "metadata": {
        "_uuid": "433ea65cc3c6ec9669ccb0e8e0b647fffa562b9a",
        "_cell_guid": "55426bcb-8757-41a2-ba1a-03fe6d754f1e",
        "id": "4dKgAiFEPRtY"
      },
      "source": [
        "## Baseline model\n"
      ]
    },
    {
      "cell_type": "code",
      "metadata": {
        "_uuid": "8fb8fc7e725e45ff50e00114ca3e3b570e94baaf",
        "ExecuteTime": {
          "end_time": "2018-04-15T08:52:17.915722Z",
          "start_time": "2018-04-15T08:50:47.196883Z"
        },
        "_cell_guid": "f2decd84-155a-44e2-8ff2-42ca2cc631bb",
        "trusted": true,
        "id": "F3jIjLcYPRtY"
      },
      "source": [
        "#normalize data, so we get values between 0 and 1\n",
        "train_df[get_pixel_cols()] = train_df[get_pixel_cols()] / 255.\n",
        "test_df[get_pixel_cols()] = test_df[get_pixel_cols()] / 255."
      ],
      "execution_count": null,
      "outputs": []
    },
    {
      "cell_type": "code",
      "metadata": {
        "_uuid": "b36d39750dda190db7046ccaf026c7847b3232b8",
        "ExecuteTime": {
          "end_time": "2018-04-15T09:26:52.687709Z",
          "start_time": "2018-04-15T09:26:51.89517Z"
        },
        "_cell_guid": "297c9cfc-1f4d-4081-9a4f-f70caa237002",
        "trusted": true,
        "id": "4qZY1stWPRtY"
      },
      "source": [
        "#split train data in train-val\n",
        "from sklearn.model_selection import train_test_split\n",
        "X_train, X_val, y_train, y_val = train_test_split(train_df[get_pixel_cols()], train_df.label, test_size=0.25, random_state=4)"
      ],
      "execution_count": null,
      "outputs": []
    },
    {
      "cell_type": "code",
      "metadata": {
        "ExecuteTime": {
          "end_time": "2018-04-15T08:54:40.364145Z",
          "start_time": "2018-04-15T08:52:18.963077Z"
        },
        "_cell_guid": "36772de2-0a37-4422-8c09-05827232e0ff",
        "_uuid": "a874a323221eadc51b10efb819a8aab2ad77320c",
        "trusted": false,
        "id": "fETczZVQPRtY"
      },
      "source": [
        "#train a logistic regression model\n",
        "from sklearn.linear_model import LogisticRegression\n",
        "\n",
        "lr = LogisticRegression(C = 0.1, solver = 'sag')\n",
        "% time lr.fit(X_train, y_train)"
      ],
      "execution_count": null,
      "outputs": []
    },
    {
      "cell_type": "markdown",
      "metadata": {
        "_uuid": "211e96470d08450571a2061f1e1bea4414f0fd7c",
        "_cell_guid": "9f0209ca-12ea-4ac7-a3e5-efaa361e23cc",
        "id": "ENIh4ibZPRtY"
      },
      "source": [
        "### Baseline model evaluation"
      ]
    },
    {
      "cell_type": "code",
      "metadata": {
        "_uuid": "8d14282e2a6dd2f461514bd6c50a7ef0f31abefc",
        "ExecuteTime": {
          "end_time": "2018-04-15T08:54:40.410024Z",
          "start_time": "2018-04-15T08:54:40.366311Z"
        },
        "_cell_guid": "d3ee5186-1707-4ece-987c-9436f562dd04",
        "trusted": false,
        "id": "wJU0XuNZPRtY"
      },
      "source": [
        "#class estimation\n",
        "lr_y_val_pred = lr.predict(X_val)"
      ],
      "execution_count": null,
      "outputs": []
    },
    {
      "cell_type": "code",
      "metadata": {
        "_uuid": "a404500b3f5005a1248dab38b6a506f6a7a062f1",
        "ExecuteTime": {
          "end_time": "2018-04-15T08:54:40.416081Z",
          "start_time": "2018-04-15T08:54:40.411214Z"
        },
        "_cell_guid": "d4b14067-47c3-4ac0-81ea-f54600ee699f",
        "trusted": false,
        "id": "xD7A1rtjPRtZ"
      },
      "source": [
        "#prints accuracy score\n",
        "def print_acc(y_true, y_pred, set_str):\n",
        "    print (\"This model has a {0:.2f}% acc. score @ {1}\".format(100*accuracy_score(y_true, y_pred), set_str))"
      ],
      "execution_count": null,
      "outputs": []
    },
    {
      "cell_type": "code",
      "metadata": {
        "ExecuteTime": {
          "end_time": "2018-04-15T08:54:41.044979Z",
          "start_time": "2018-04-15T08:54:40.420821Z"
        },
        "_cell_guid": "85f545c3-ec5d-4bbe-87f8-06e4c6ba27de",
        "_uuid": "bff45b0af5e892194e4202d076d80f18deded596",
        "trusted": true,
        "id": "Jv1RyUoGPRtZ"
      },
      "source": [
        "#compute confusion matrix\n",
        "import seaborn as sn\n",
        "from sklearn.metrics import confusion_matrix, accuracy_score, roc_curve, auc\n",
        "\n",
        "def plot_conf_matrix(y_true, y_pred, set_str):\n",
        "    \"\"\"\n",
        "    This function plots a basic confusion matrix, and also shows the model\n",
        "    accuracy score\n",
        "    \"\"\"\n",
        "    conf_mat = confusion_matrix(y_true, y_pred)\n",
        "    df_conf = pd.DataFrame(conf_mat, index = [str(l) + '-' + label_dict[l] for l in labels],\n",
        "                           columns = [str(l) + '-' + label_dict[l] for l in labels])\n",
        "\n",
        "    plt.figure(figsize = (12, 12))\n",
        "    sn.heatmap(df_conf, annot=True, cmap=\"YlGnBu\")\n",
        "    \n",
        "    print_acc(y_true, y_pred, set_str)\n",
        "\n",
        "plot_conf_matrix(y_val, lr_y_val_pred, 'Validation')"
      ],
      "execution_count": null,
      "outputs": []
    },
    {
      "cell_type": "code",
      "metadata": {
        "ExecuteTime": {
          "end_time": "2018-04-15T08:54:41.150097Z",
          "start_time": "2018-04-15T08:54:41.057457Z"
        },
        "_cell_guid": "7bebc1e5-360b-43d8-afc7-517af8ec2e81",
        "_uuid": "17e2399d5a78a5882ceaeb8a15b848f7c8e0a035",
        "trusted": false,
        "id": "QxzSn8wxPRtZ"
      },
      "source": [
        "print_acc(y_train, lr.predict(X_train), 'Train')"
      ],
      "execution_count": null,
      "outputs": []
    },
    {
      "cell_type": "markdown",
      "metadata": {
        "_uuid": "5f396d627c8f7eafdc033c37f34b3cd9a19c6f22",
        "_cell_guid": "2b5ea89b-1d72-48a6-9661-950099471dad",
        "id": "6L7NownCPRtZ"
      },
      "source": [
        "### visual error inspection "
      ]
    },
    {
      "cell_type": "code",
      "metadata": {
        "_uuid": "1e105164a1e4b18b9e800a475f1ce5f4e1126444",
        "ExecuteTime": {
          "end_time": "2018-04-15T08:54:41.192556Z",
          "start_time": "2018-04-15T08:54:41.156868Z"
        },
        "_cell_guid": "1f7b5786-5aa2-4976-b17e-7e7590f093ea",
        "trusted": true,
        "id": "UHPYEjq4PRta"
      },
      "source": [
        "def visual_err_inspection(y_true, y_pred, lab_eval, N_samples=6):\n",
        "    \"\"\"\n",
        "    This function runs a visual error inspection. It plots two rows of images,\n",
        "    the first row shows true positive predictions, while the second one shows\n",
        "    flase positive predictions\n",
        "    \"\"\"\n",
        "    \n",
        "    df_y = pd.DataFrame({'y_true': y_true, 'y_pred': y_pred})\n",
        "    idx_y_eval_tp = df_y.loc[(df_y.y_true == lab_eval) & (df_y.y_pred == lab_eval)].index.values[:N_samples]\n",
        "    idx_y_eval_fp = df_y.loc[(df_y.y_true != lab_eval) & (df_y.y_pred == lab_eval)].index.values[:N_samples]\n",
        "    \n",
        "    plt.figure(figsize=(12,5))\n",
        "    plt.plot([2, N_samples, 2*N_samples + 1])\n",
        "\n",
        "    for i in range(N_samples):\n",
        "        ax = plt.subplot(2, N_samples, i+1)\n",
        "        ax.set_title(\"OK: \" + str(lab_eval) + \" - \" + label_dict[lab_eval])\n",
        "        plt.axis('off')\n",
        "        plot_image_pd(idx_to_pixseries(train_df, idx_y_eval_tp[i]))\n",
        "\n",
        "        ax2 = plt.subplot(2, N_samples, i+N_samples+1)\n",
        "        lab_ = train_df.iloc[idx_y_eval_fp[i]].label\n",
        "        ax2.set_title(\"KO: \" + str(int(lab_)) + \" - \" + label_dict[lab_])\n",
        "        plt.axis('off')\n",
        "        plot_image_pd(idx_to_pixseries(train_df, idx_y_eval_fp[i]))"
      ],
      "execution_count": null,
      "outputs": []
    },
    {
      "cell_type": "code",
      "metadata": {
        "ExecuteTime": {
          "end_time": "2018-04-15T08:54:41.668242Z",
          "start_time": "2018-04-15T08:54:41.193974Z"
        },
        "_cell_guid": "e8074056-c05d-431f-a6e7-4b05d57823a4",
        "_uuid": "1b810c62fe36690bff1143e82f3820e729fd0944",
        "trusted": false,
        "id": "jE4cs8QsPRta"
      },
      "source": [
        "#run visual inspection for class 6 - shirts\n",
        "visual_err_inspection(y_val, lr_y_val_pred, 6, 6)"
      ],
      "execution_count": null,
      "outputs": []
    },
    {
      "cell_type": "code",
      "metadata": {
        "ExecuteTime": {
          "end_time": "2018-04-15T08:54:42.107479Z",
          "start_time": "2018-04-15T08:54:41.670114Z"
        },
        "_cell_guid": "e9116449-8f28-4153-bff9-dd50194f0394",
        "_uuid": "7e41cd795bc963c9b1a520289df46e08f807b65d",
        "trusted": false,
        "id": "G_e6AfcDPRtb"
      },
      "source": [
        "#run visual inspection for class 4 - coats\n",
        "visual_err_inspection(y_val, lr_y_val_pred, 4, 6)"
      ],
      "execution_count": null,
      "outputs": []
    },
    {
      "cell_type": "markdown",
      "metadata": {
        "_uuid": "4d2cd0fffb092a26c15225906d155fe1e6cfd476",
        "_cell_guid": "2a616c16-f63d-4cf8-a548-1f07ddef86fa",
        "id": "S603UZmYPRtb"
      },
      "source": [
        "# Ensemble models"
      ]
    },
    {
      "cell_type": "markdown",
      "metadata": {
        "_uuid": "e81fdd2aecab19eac86969511c0782dbe777ae5b",
        "_cell_guid": "4dcf68bf-92a2-491a-8033-aafcfc8155e3",
        "id": "l-meuATvPRtb"
      },
      "source": [
        "## RF model"
      ]
    },
    {
      "cell_type": "code",
      "metadata": {
        "_uuid": "da05a02b6e930a04645de6245848c1303e6c46fd",
        "ExecuteTime": {
          "end_time": "2018-04-15T08:54:42.110419Z",
          "start_time": "2018-04-15T08:54:42.108868Z"
        },
        "_cell_guid": "5a48f953-6688-4cf9-9200-3ea4c3bfe813",
        "trusted": false,
        "id": "UFZlm8T0PRtb"
      },
      "source": [
        "#train a RF model on this data"
      ],
      "execution_count": null,
      "outputs": []
    },
    {
      "cell_type": "code",
      "metadata": {
        "ExecuteTime": {
          "end_time": "2018-04-15T08:55:22.29961Z",
          "start_time": "2018-04-15T08:54:42.111509Z"
        },
        "_cell_guid": "835c2cc4-9ece-4c6f-bf38-b7278f93e144",
        "_uuid": "4a5f2b7ae186982d5149e4f0d2d768b11ce6be14",
        "trusted": false,
        "id": "0zNl9JAfPRtb"
      },
      "source": [
        "from sklearn.ensemble import RandomForestClassifier\n",
        "\n",
        "rf = RandomForestClassifier(n_estimators=500, min_samples_leaf=25, n_jobs=4)\n",
        "#train the model\n",
        "%time rf.fit(X_train, y_train)\n",
        "\n",
        "plot_conf_matrix(y_val, rf.predict(X_val), 'Validation')"
      ],
      "execution_count": null,
      "outputs": []
    },
    {
      "cell_type": "code",
      "metadata": {
        "ExecuteTime": {
          "end_time": "2018-04-15T08:55:24.409312Z",
          "start_time": "2018-04-15T08:55:22.311294Z"
        },
        "_cell_guid": "4b577745-a0b8-4399-8561-a9edded550cd",
        "_uuid": "ead28a594b27e141387e1b9181dca49481d739df",
        "trusted": false,
        "id": "uPOfGKRWPRtb"
      },
      "source": [
        "print_acc(y_train, rf.predict(X_train), 'Train')"
      ],
      "execution_count": null,
      "outputs": []
    },
    {
      "cell_type": "markdown",
      "metadata": {
        "_uuid": "ed9fe8b10108a3a9e0a1d721bf2566bd7a81b070",
        "_cell_guid": "7a910123-6f75-4532-aa50-9191e67983c2",
        "id": "ttloRlLsPRtb"
      },
      "source": [
        "## XGboost"
      ]
    },
    {
      "cell_type": "code",
      "metadata": {
        "_uuid": "a3681f38fa864a54a2f4a79d7c282fe80fcb3345",
        "ExecuteTime": {
          "end_time": "2018-04-15T09:09:23.858245Z",
          "start_time": "2018-04-15T08:55:24.413366Z"
        },
        "_cell_guid": "c8275536-985d-46ee-82da-883f908b8f8c",
        "trusted": false,
        "id": "-OgGojGBPRtb"
      },
      "source": [
        "#train a xgboost model on this data\n",
        "from xgboost import  XGBClassifier\n",
        "xgb = XGBClassifier(max_depth=5, n_estimators=300, learning_rate=0.03, n_jobs=4)\n",
        "%time xgb.fit(X_train, y_train)"
      ],
      "execution_count": null,
      "outputs": []
    },
    {
      "cell_type": "code",
      "metadata": {
        "_uuid": "5c2467b431359101aef1c145f6019f4d31500d9d",
        "ExecuteTime": {
          "end_time": "2018-04-15T09:09:25.059504Z",
          "start_time": "2018-04-15T09:09:23.861825Z"
        },
        "_cell_guid": "0ffb2939-de83-4a76-8d65-de522cca2c89",
        "trusted": false,
        "id": "ahtFm0KXPRtb"
      },
      "source": [
        "plot_conf_matrix(y_val, xgb.predict(X_val), 'Validation')"
      ],
      "execution_count": null,
      "outputs": []
    },
    {
      "cell_type": "code",
      "metadata": {
        "_uuid": "6ef8f01a248c41d5b3db4ef63996ea46f1ee098f",
        "ExecuteTime": {
          "end_time": "2018-04-15T09:09:29.18235Z",
          "start_time": "2018-04-15T09:09:25.061692Z"
        },
        "_cell_guid": "25902cae-7a3f-4b33-ab60-33f4d2c5c32b",
        "trusted": false,
        "id": "iQhW_Ge3PRtb"
      },
      "source": [
        "print_acc(y_train, xgb.predict(X_train), 'Train')"
      ],
      "execution_count": null,
      "outputs": []
    },
    {
      "cell_type": "markdown",
      "metadata": {
        "ExecuteTime": {
          "end_time": "2018-04-13T18:25:41.426575Z",
          "start_time": "2018-04-13T18:25:41.422264Z"
        },
        "_cell_guid": "173b31a7-4d35-4c5b-a328-18e0c371c9f3",
        "_uuid": "411e69558571a7697fd94bb46c64ff8b45afaf08",
        "id": "nvKgYlQ2PRtb"
      },
      "source": [
        "## Basic model ensemble"
      ]
    },
    {
      "cell_type": "code",
      "metadata": {
        "_uuid": "d4e6dfb279a7b8a60383afd354b2454da6f41938",
        "ExecuteTime": {
          "end_time": "2018-04-15T09:09:31.280926Z",
          "start_time": "2018-04-15T09:09:29.187005Z"
        },
        "_cell_guid": "28f199e1-043d-4269-9317-d93e5259685a",
        "trusted": false,
        "id": "0jOKnijJPRtc"
      },
      "source": [
        "lr_val_probs, rf_val_probs, xgb_val_probs = lr.predict_proba(X_val), rf.predict_proba(X_val), xgb.predict_proba(X_val)"
      ],
      "execution_count": null,
      "outputs": []
    },
    {
      "cell_type": "code",
      "metadata": {
        "_uuid": "7aa19c8e2c7dda404dbe6113d6c60c72dbecafe6",
        "ExecuteTime": {
          "end_time": "2018-04-15T09:09:31.307159Z",
          "start_time": "2018-04-15T09:09:31.283725Z"
        },
        "_cell_guid": "564bccdc-95cf-477c-96be-851c9bebbe29",
        "trusted": false,
        "id": "7vilsuB1PRtc"
      },
      "source": [
        "def show_probs_dist(prob_pred, label_dictionary = label_dict):\n",
        "    '''\n",
        "    Given the probabilities prediction of a model, for a set of labels, show how all look together \n",
        "    '''\n",
        "    for i in range(prob_pred.shape[1]):\n",
        "        plt.hist(prob_pred[:,i], alpha=0.4, label = label_dictionary[i])\n",
        "    plt.legend(loc='upper right')"
      ],
      "execution_count": null,
      "outputs": []
    },
    {
      "cell_type": "code",
      "metadata": {
        "_uuid": "d01bdcda39be2b7dc107e4775718336a633fb208",
        "ExecuteTime": {
          "end_time": "2018-04-15T09:09:31.727909Z",
          "start_time": "2018-04-15T09:09:31.32404Z"
        },
        "_cell_guid": "8df51442-de4a-445e-af49-b4f5e0daddf6",
        "trusted": false,
        "id": "1AscOulOPRtc"
      },
      "source": [
        "show_probs_dist(lr_val_probs)"
      ],
      "execution_count": null,
      "outputs": []
    },
    {
      "cell_type": "code",
      "metadata": {
        "_uuid": "7f5ad633074adb525e7c35bab9d8c3634fc3ae62",
        "ExecuteTime": {
          "end_time": "2018-04-15T09:09:31.996798Z",
          "start_time": "2018-04-15T09:09:31.733071Z"
        },
        "_cell_guid": "902da16f-8719-45d5-96e6-b693fb0a1edc",
        "trusted": false,
        "id": "uEC-tXV_PRtc"
      },
      "source": [
        "show_probs_dist(rf_val_probs)"
      ],
      "execution_count": null,
      "outputs": []
    },
    {
      "cell_type": "code",
      "metadata": {
        "_uuid": "72bebb69c762a2b64b303283402dc44aced3a336",
        "ExecuteTime": {
          "end_time": "2018-04-15T09:09:32.303753Z",
          "start_time": "2018-04-15T09:09:32.002084Z"
        },
        "_cell_guid": "cf76d833-3d2e-4d6f-ba34-fa540a9179b5",
        "trusted": false,
        "id": "wcRcjZYaPRtc"
      },
      "source": [
        "show_probs_dist(xgb_val_probs)"
      ],
      "execution_count": null,
      "outputs": []
    },
    {
      "cell_type": "code",
      "metadata": {
        "_uuid": "f7287f0747c50a141f89a42786264fa54ca5ee79",
        "ExecuteTime": {
          "end_time": "2018-04-15T09:09:32.31601Z",
          "start_time": "2018-04-15T09:09:32.306603Z"
        },
        "_cell_guid": "0a31c43a-70ba-4edc-8ca6-506485500023",
        "trusted": false,
        "id": "d3DcB5exPRtc"
      },
      "source": [
        "def show_probs_dist_label(prob_pred_list, preds_names_list, label_picked, label_dictionary = label_dict):\n",
        "    '''\n",
        "    Given a list of probablities prediction for different models, select one label an plot all models \n",
        "    probabilities prediction for that label\n",
        "    '''\n",
        "    for i in range(len(prob_pred_list)):\n",
        "        plt.hist(prob_pred_list[i][:,label_picked], alpha=0.5, label = preds_names_list[i])\n",
        "    plt.legend(loc='upper right')\n",
        "    plt.title('Probability distribution for ' + label_dict[label_picked])\n",
        "    plt.show()"
      ],
      "execution_count": null,
      "outputs": []
    },
    {
      "cell_type": "code",
      "metadata": {
        "_uuid": "170ebf3fe1f0b574f0a1023a3b338ce94b726fd3",
        "ExecuteTime": {
          "end_time": "2018-04-15T09:09:33.627717Z",
          "start_time": "2018-04-15T09:09:32.319815Z"
        },
        "_cell_guid": "61518a98-3df7-4082-896f-64873d1f265d",
        "trusted": false,
        "id": "r96wvW_yPRtc"
      },
      "source": [
        "list_probs = [lr_val_probs, rf_val_probs, xgb_val_probs]\n",
        "list_names = ['LR', 'RF', 'XGB']\n",
        "for i in label_dict.keys():\n",
        "    show_probs_dist_label(list_probs, list_names, i)"
      ],
      "execution_count": null,
      "outputs": []
    },
    {
      "cell_type": "code",
      "metadata": {
        "_uuid": "748131f40a0882cfb3c3d7b6963b6e1710b4749c",
        "ExecuteTime": {
          "end_time": "2018-04-15T09:09:34.060239Z",
          "start_time": "2018-04-15T09:09:33.629069Z"
        },
        "_cell_guid": "689b6c21-83a2-46f0-b7f5-36d0c29ac719",
        "trusted": false,
        "id": "Ret2mZsuPRtc"
      },
      "source": [
        "#average all predictions\n",
        "comb_val_probs = (lr_val_probs + rf_val_probs + xgb_val_probs) / 3\n",
        "#pick the column idx with the max probability\n",
        "comb_val_pred = comb_val_probs.argmax(axis=1)\n",
        "plot_conf_matrix(y_val, comb_val_pred, 'Validation')"
      ],
      "execution_count": null,
      "outputs": []
    },
    {
      "cell_type": "code",
      "metadata": {
        "_uuid": "bfb1a87131e3be08402aa6caec7b94cc93daced0",
        "ExecuteTime": {
          "end_time": "2018-04-15T09:09:34.555682Z",
          "start_time": "2018-04-15T09:09:34.063344Z"
        },
        "_cell_guid": "3696135c-3fd5-4702-9951-59acc43f8f4a",
        "trusted": false,
        "id": "GMhZKtf1PRtd"
      },
      "source": [
        "weighted_val_probs = (0.2*lr_val_probs + 0.3*rf_val_probs + 0.5*xgb_val_probs) / 3\n",
        "weighted_val_pred = weighted_val_probs.argmax(axis=1)\n",
        "plot_conf_matrix(y_val, weighted_val_pred, 'Validation')"
      ],
      "execution_count": null,
      "outputs": []
    },
    {
      "cell_type": "markdown",
      "metadata": {
        "_uuid": "83262db71ee4659c4c00f7816a3aa041fae9ba63",
        "_cell_guid": "813e89e4-dedc-48f2-b3e5-868e04bd55fe",
        "id": "8yAe4IIOPRtd"
      },
      "source": [
        "## Dimensionality reduction"
      ]
    },
    {
      "cell_type": "code",
      "metadata": {
        "_uuid": "911ef324c1889849553314479776a844de75db15",
        "ExecuteTime": {
          "end_time": "2018-04-15T09:09:34.589816Z",
          "start_time": "2018-04-15T09:09:34.558555Z"
        },
        "_cell_guid": "d27d4d5e-7e7a-4f95-bca2-a02d3fa86929",
        "trusted": false,
        "id": "AdRDvaqhPRtd"
      },
      "source": [
        "from sklearn import decomposition\n",
        "N_PCA_COMP = 50\n",
        "pca_est = decomposition.PCA(n_components=N_PCA_COMP, svd_solver='randomized', whiten=True, random_state=42)"
      ],
      "execution_count": null,
      "outputs": []
    },
    {
      "cell_type": "code",
      "metadata": {
        "ExecuteTime": {
          "end_time": "2018-04-15T09:09:36.05837Z",
          "start_time": "2018-04-15T09:09:34.592734Z"
        },
        "_cell_guid": "addc328d-1925-4771-aa6b-2975da910cc1",
        "_uuid": "e35733b9130397c4a494930613b4b411ef8c7b9e",
        "trusted": false,
        "id": "Obr6A575PRtd"
      },
      "source": [
        "pca_est.fit(X_val)"
      ],
      "execution_count": null,
      "outputs": []
    },
    {
      "cell_type": "code",
      "metadata": {
        "ExecuteTime": {
          "end_time": "2018-04-15T09:09:36.066638Z",
          "start_time": "2018-04-15T09:09:36.059543Z"
        },
        "_cell_guid": "caf91181-498c-4fc5-8097-17cd150d7d4c",
        "_uuid": "0f336f02d3ee5b56a552971b9ea28380c056126e",
        "trusted": false,
        "id": "ObXJBiCdPRtd"
      },
      "source": [
        "pca_est.explained_variance_ratio_"
      ],
      "execution_count": null,
      "outputs": []
    },
    {
      "cell_type": "code",
      "metadata": {
        "ExecuteTime": {
          "end_time": "2018-04-15T09:09:36.264987Z",
          "start_time": "2018-04-15T09:09:36.085119Z"
        },
        "_cell_guid": "c45cdfb5-fd94-4a71-9fa8-3a916550d884",
        "_uuid": "7572a18ad0817aad059b3384c9cf2936df31f982",
        "trusted": false,
        "id": "30kCQyNGPRtd"
      },
      "source": [
        "plt.scatter([i for i in range(N_PCA_COMP)], pca_est.explained_variance_ratio_)\n",
        "plt.plot([i for i in range(N_PCA_COMP)], pca_est.explained_variance_ratio_)"
      ],
      "execution_count": null,
      "outputs": []
    },
    {
      "cell_type": "code",
      "metadata": {
        "ExecuteTime": {
          "end_time": "2018-04-15T09:09:36.390739Z",
          "start_time": "2018-04-15T09:09:36.2685Z"
        },
        "_cell_guid": "970a4e7c-c04a-4fdc-8600-a6882de5466c",
        "_uuid": "12f1e5232a7cd0569d5c80ee622216a3ca1edd02",
        "trusted": false,
        "id": "F22Co3onPRtd"
      },
      "source": [
        "plt.scatter([i for i in range(N_PCA_COMP)], pca_est.explained_variance_ratio_.cumsum())\n",
        "plt.plot([i for i in range(N_PCA_COMP)], pca_est.explained_variance_ratio_.cumsum())"
      ],
      "execution_count": null,
      "outputs": []
    },
    {
      "cell_type": "code",
      "metadata": {
        "ExecuteTime": {
          "end_time": "2018-04-15T09:09:36.785649Z",
          "start_time": "2018-04-15T09:09:36.392907Z"
        },
        "_cell_guid": "5b7121c6-4986-44d6-b36c-b7ad44e28319",
        "_uuid": "b5ab221ace829e5e897c7d13380a985281d83979",
        "trusted": false,
        "id": "3bF55DMUPRte"
      },
      "source": [
        "plt.figure(figsize=(12,5))\n",
        "plt.plot([2, 4])\n",
        "\n",
        "for i in range(4):\n",
        "    ax = plt.subplot(2, 4, i + 1)\n",
        "    ax.set_title(\"Comp # \" + str(i+1))\n",
        "    plt.axis('off')\n",
        "    plt.imshow(pca_est.components_[i, :].reshape(28, 28), cmap= 'gray')\n",
        "\n",
        "    ax2 = plt.subplot(2, 4, i + 4 + 1)\n",
        "    ax2.set_title(\"Comp # \" + str(i + 4 + 1))\n",
        "    plt.axis('off')\n",
        "    plt.imshow(pca_est.components_[i + 4, :].reshape(28, 28), cmap= 'gray')"
      ],
      "execution_count": null,
      "outputs": []
    },
    {
      "cell_type": "code",
      "metadata": {
        "_uuid": "59e68a69789181ecd8343e301e1c13c278f7c6da",
        "ExecuteTime": {
          "end_time": "2018-04-15T09:10:02.627014Z",
          "start_time": "2018-04-15T09:10:02.565301Z"
        },
        "_cell_guid": "66eb9cf1-7153-438a-904a-5706c94caab2",
        "trusted": false,
        "id": "YLGKWkORPRte"
      },
      "source": [
        "#transorm the original images in the PCA space\n",
        "X_val_pca = pca_est.transform(X_val)"
      ],
      "execution_count": null,
      "outputs": []
    },
    {
      "cell_type": "code",
      "metadata": {
        "_uuid": "8094a580ccdd39e7850a5feff9c25c194d9cb628",
        "ExecuteTime": {
          "end_time": "2018-04-15T09:54:21.97512Z",
          "start_time": "2018-04-15T09:54:21.9718Z"
        },
        "_cell_guid": "fa9c4aea-265a-4056-ac7f-e2393fdef519",
        "trusted": false,
        "id": "E-lsGrXUPRte"
      },
      "source": [
        "#work with just a sample\n",
        "N_samps = 1000\n",
        "y_val_ = y_val.reset_index(drop=True)\n",
        "sample = X_val_pca[:N_samps, :3]"
      ],
      "execution_count": null,
      "outputs": []
    },
    {
      "cell_type": "code",
      "metadata": {
        "ExecuteTime": {
          "end_time": "2018-04-15T09:54:22.643333Z",
          "start_time": "2018-04-15T09:54:22.475886Z"
        },
        "_cell_guid": "1f0c3fcc-88f0-4a95-8fbd-04922b329055",
        "_uuid": "bcc9e3438bc2074c80b8bd17a007fab7802c6638",
        "trusted": false,
        "id": "AjL9-0lNPRtf"
      },
      "source": [
        "plt.figure(figsize=(12,5))\n",
        "plt.subplot(111)\n",
        "for lab in np.unique([a for a in label_dict.keys()]):\n",
        "    ix = np.where(y_val_[:N_samps] == lab)\n",
        "    plt.scatter(sample[:, 0][ix], sample[:, 1][ix], label = label_dict[lab])\n",
        "plt.legend(bbox_to_anchor=(1.05, 1), loc=2)\n",
        "plt.xlabel('1st PCA component')\n",
        "plt.ylabel('2nd PCA component')\n",
        "plt.show()"
      ],
      "execution_count": null,
      "outputs": []
    },
    {
      "cell_type": "code",
      "metadata": {
        "ExecuteTime": {
          "end_time": "2018-04-15T10:10:20.733835Z",
          "start_time": "2018-04-15T10:10:20.680457Z"
        },
        "_cell_guid": "2e7c21f1-1710-45f7-85bb-e41fb437abfa",
        "_uuid": "d7a45ed6aecc7394f448326f465f760d97f4289d",
        "trusted": false,
        "id": "csRuz2VoPRtf"
      },
      "source": [
        "import plotly.offline as py\n",
        "import plotly.graph_objs as go\n",
        "%matplotlib inline\n",
        "py.init_notebook_mode(connected=True)\n",
        "\n",
        "%matplotlib inline\n",
        "trace1 = go.Scatter3d(\n",
        "    x= sample[:, 0],\n",
        "    y= sample[:, 1],\n",
        "    z= sample[:, 2],\n",
        "    text= [label_dict[k] for k in y_val_[:N_samps].values],\n",
        "    mode= 'markers',\n",
        "    marker= dict(\n",
        "        color=y_val_[:N_samps], \n",
        "        opacity=0.8\n",
        "    )\n",
        ")\n",
        "\n",
        "data = [trace1]\n",
        "\n",
        "layout = go.Layout(\n",
        "    scene = dict(\n",
        "    xaxis = dict(\n",
        "        title='1st PCA component'),\n",
        "    yaxis = dict(\n",
        "        title='2nd PCA component'),\n",
        "    zaxis = dict(\n",
        "        title='3rd PCA component'),)\n",
        ")\n",
        "\n",
        "fig = go.Figure(data=data, layout=layout)\n",
        "py.iplot(fig)"
      ],
      "execution_count": null,
      "outputs": []
    },
    {
      "cell_type": "markdown",
      "metadata": {
        "_uuid": "4995217be88a40877a14ecc683ecafd0243fc6e1",
        "_cell_guid": "17b0bbe7-4dcd-4fdd-bb13-8739b68829f6",
        "id": "cNHAo-TNPRtf"
      },
      "source": [
        "## CNN model"
      ]
    },
    {
      "cell_type": "code",
      "metadata": {
        "_uuid": "6e86da80fbaca201afd19237fbabb40f2f82a677",
        "_cell_guid": "b51eea59-cfe5-4922-be79-e0274b2f6424",
        "trusted": true,
        "id": "FYi5ErG5PRtg"
      },
      "source": [
        "import keras\n",
        "from keras.models import Model\n",
        "from keras.layers import Input, Dense, Dropout, Flatten, Conv2D, MaxPooling2D, ZeroPadding2D, Activation\n",
        "from keras.layers.normalization import BatchNormalization\n",
        "\n",
        "#CONV-> BatchNorm-> RELU block\n",
        "def conv_bn_relu_block(X, n_channels, kernel_size=(3, 3)):\n",
        "    X = Conv2D(n_channels, kernel_size)(X)\n",
        "    X = BatchNormalization(axis = 3)(X)\n",
        "    X = Activation('relu')(X)\n",
        "    return X\n",
        "\n",
        "#simple keras model\n",
        "def fashion_cnn_model(input_shape):\n",
        "    X_input = Input(input_shape)\n",
        "    #zeropad\n",
        "    X = ZeroPadding2D((1, 1))(X_input)\n",
        "    #run a CONV -> BN -> RELU block\n",
        "    X = conv_bn_relu_block(X, 32)\n",
        "    #Maxpooling and dropout\n",
        "    X = MaxPooling2D((2, 2))(X)\n",
        "    X = Dropout(0.3)(X)\n",
        "    #run another CONV -> BN -> RELU block\n",
        "    X = ZeroPadding2D((1, 1))(X)\n",
        "    X = conv_bn_relu_block(X, 64)\n",
        "    #Maxpooling and dropout\n",
        "    X = MaxPooling2D((2, 2))(X)\n",
        "    X = Dropout(0.4)(X)\n",
        "    #run another CONV -> BN -> RELU block\n",
        "    #X = ZeroPadding2D((1, 1))(X)\n",
        "    X = conv_bn_relu_block(X, 128)\n",
        "    #dropout\n",
        "    X = Dropout(0.3)(X)\n",
        "    #flatten\n",
        "    X = Flatten()(X)\n",
        "    #dense layer\n",
        "    X = Dense(len(label_dict.keys()), activation='softmax')(X)\n",
        "    #output model\n",
        "    model = Model(inputs = X_input, outputs = X, name='fashion_cnn_model')\n",
        "\n",
        "    return model"
      ],
      "execution_count": null,
      "outputs": []
    },
    {
      "cell_type": "code",
      "metadata": {
        "_cell_guid": "709f83d2-032c-441c-97c1-8deaf6b2659e",
        "_uuid": "985f35da2f42c27f03a31ec5827217831ab0878b",
        "trusted": true,
        "id": "fyWwPpuTPRtg"
      },
      "source": [
        "fashionModel = fashion_cnn_model((28, 28, 1,))"
      ],
      "execution_count": null,
      "outputs": []
    },
    {
      "cell_type": "code",
      "metadata": {
        "_uuid": "b1968880996afbc010f683eed5edc42b9233f563",
        "_cell_guid": "57acb18f-dc5e-4151-93da-7f785f038f1d",
        "trusted": true,
        "id": "bSp1cdlvPRtg"
      },
      "source": [
        "#show the model architecture summary\n",
        "fashionModel.summary()"
      ],
      "execution_count": null,
      "outputs": []
    },
    {
      "cell_type": "code",
      "metadata": {
        "_cell_guid": "fc039d33-3f27-485d-848e-af14af8709a4",
        "_uuid": "b7d24d240bbb2878a9e252e6416effaf172866d0",
        "trusted": true,
        "id": "h_O03DN2PRth"
      },
      "source": [
        "fashionModel.compile(optimizer = \"adam\", loss = \"categorical_crossentropy\", metrics = [\"accuracy\"])"
      ],
      "execution_count": null,
      "outputs": []
    },
    {
      "cell_type": "code",
      "metadata": {
        "_cell_guid": "f43bdabc-8d18-419a-8076-cfc1f57d4e82",
        "_uuid": "2974defe9fdf0784b35de485f6e81be6c569de8d",
        "trusted": true,
        "id": "L1Jxyi8kPRth"
      },
      "source": [
        "#reshape the input data\n",
        "X_train_ = X_train.values.reshape(X_train.shape[0], 28, 28, 1)\n",
        "X_val_ = X_val.values.reshape(X_val.shape[0], 28, 28, 1)"
      ],
      "execution_count": null,
      "outputs": []
    },
    {
      "cell_type": "code",
      "metadata": {
        "_uuid": "cffcd5e2afb8de2e62c7456bee8e2f08750dbe81",
        "_cell_guid": "ce479190-fdad-4a20-a67e-00457520b503",
        "trusted": true,
        "id": "saRLJxQWPRth"
      },
      "source": [
        "from keras.utils import to_categorical\n",
        "#fit the model\n",
        "fashionModel.fit(x = X_train_ , y = to_categorical(y_train) ,epochs = 50, batch_size = 64)"
      ],
      "execution_count": null,
      "outputs": []
    },
    {
      "cell_type": "code",
      "metadata": {
        "_uuid": "f15ad5fbc0114397989a1cf177fef7365c411bbb",
        "_cell_guid": "9f386e05-a1c4-4429-9c32-8e2eb7327a5f",
        "trusted": true,
        "id": "mBw0DQehPRth"
      },
      "source": [
        "#evaluate the model performance in the validation set\n",
        "evs = fashionModel.evaluate(x = X_val_, y = to_categorical(y_val))\n",
        "#show the accuracy metric\n",
        "print(evs[1])"
      ],
      "execution_count": null,
      "outputs": []
    },
    {
      "cell_type": "markdown",
      "metadata": {
        "_uuid": "6936ad77dbdadfe5ce614ecda1ab2516a319a94c",
        "_cell_guid": "6b8cf73f-edaf-4b17-a1a2-9735b3540ba5",
        "id": "i_xOl0T0PRti"
      },
      "source": [
        "### CNN model inspection"
      ]
    },
    {
      "cell_type": "code",
      "metadata": {
        "_uuid": "a5fdb3483ea510ff54206f77b34f8f03d1d05ad9",
        "_cell_guid": "19d4f20c-b298-4ff5-9c63-c36411a63963",
        "trusted": true,
        "id": "thafC9sFPRti"
      },
      "source": [
        "#label prediction\n",
        "cnn_y_val_pred = fashionModel.predict(X_val_).argmax(axis=-1)\n",
        "#plot confusion matrix\n",
        "plot_conf_matrix(y_val, cnn_y_val_pred, 'Validation')"
      ],
      "execution_count": null,
      "outputs": []
    },
    {
      "cell_type": "code",
      "metadata": {
        "_uuid": "679f2ddb188d9b10f6ddf09b5fa64fec5552ca05",
        "_cell_guid": "3bebb6f5-bd77-433b-8496-716f72d1c7c6",
        "trusted": true,
        "id": "8kieM5TkPRtj"
      },
      "source": [
        "from sklearn.metrics import classification_report\n",
        "print(classification_report(y_val, cnn_y_val_pred, target_names=[v for v in label_dict.values()]))"
      ],
      "execution_count": null,
      "outputs": []
    },
    {
      "cell_type": "code",
      "metadata": {
        "_uuid": "46385a28422cec32eaa69954663daadafdbf3880",
        "_cell_guid": "58f389ae-dbe4-440c-a837-94b81a55ca4c",
        "trusted": true,
        "id": "6bpIC6UrPRtk"
      },
      "source": [
        "#run visual inspection for all classes\n",
        "for i in label_dict.keys():\n",
        "    visual_err_inspection(y_val, cnn_y_val_pred, i, 6)"
      ],
      "execution_count": null,
      "outputs": []
    },
    {
      "cell_type": "markdown",
      "metadata": {
        "collapsed": true,
        "_cell_guid": "8f1cb006-8d04-40d6-8ec6-965b39cdc32c",
        "_uuid": "b1c9515968e5a00d435e71766ab920f84250e4a9",
        "trusted": false,
        "id": "7ZtmSWOnPRtk"
      },
      "source": [
        "### Recommendation generation using an intermediate layer as descriptor"
      ]
    },
    {
      "cell_type": "code",
      "metadata": {
        "_cell_guid": "6a4af586-8a72-42fd-8cf3-71bcf60ca19b",
        "_uuid": "e02c337f2f99834f710f934878bfbc1c6309f8af",
        "trusted": true,
        "id": "ZmmlKkSdPRtk"
      },
      "source": [
        "#get the output of the last conv layer\n",
        "#we will use it as description vector\n",
        "intermediate_layer_model = Model(inputs = fashionModel.input,\n",
        "                                 outputs = fashionModel.get_layer('conv2d_3').output)"
      ],
      "execution_count": null,
      "outputs": []
    },
    {
      "cell_type": "code",
      "metadata": {
        "_uuid": "ff8dc3c55194e9960149afccdfde80e3f09f76c5",
        "_cell_guid": "299fb294-3ac2-4a83-8b7e-4d2347ec655d",
        "trusted": true,
        "id": "c9FDM1bKPRtk"
      },
      "source": [
        "#generate the output for all observations in validation set\n",
        "intermediate_output = intermediate_layer_model.predict(X_val_)\n",
        "#the cosine distance is applied to 1D vectors\n",
        "intermediate_output_res = intermediate_output.reshape(15000, 128*5*5)"
      ],
      "execution_count": null,
      "outputs": []
    },
    {
      "cell_type": "code",
      "metadata": {
        "trusted": true,
        "_uuid": "2701fa95d1c3d6cc971e3c9e70380e60c6ff22ef",
        "id": "fBTRcUSkPRtl"
      },
      "source": [
        "import scipy\n",
        "\n",
        "def get_N_rec(idx_eval, N_recoms):\n",
        "    eval_row = X_val_[idx_eval, :, :, :].reshape((1, 28, 28, 1))\n",
        "    eval_activ =  intermediate_layer_model.predict(eval_row)\n",
        "    #apply the cosine distance to all rows\n",
        "    distance = np.apply_along_axis(scipy.spatial.distance.cosine, 1, intermediate_output_res, eval_activ.reshape(128*5*5))\n",
        "    #get the N_recoms with the lowest distance\n",
        "    #drop the first, as it is the row to be evaluated\n",
        "    idx_recoms = distance.argsort()[1:N_recoms+1]\n",
        "    #pass this idx to the idx space of the original datset\n",
        "    out = [X_val.index[i] for i in idx_recoms]\n",
        "    #also convert the original idx\n",
        "    original = X_val.index[idx_eval]\n",
        "    return out, original\n",
        "\n",
        "#give me 6 recommendations for idx 50\n",
        "idx_rec, orig = get_N_rec(50, 6)"
      ],
      "execution_count": null,
      "outputs": []
    },
    {
      "cell_type": "code",
      "metadata": {
        "trusted": true,
        "_uuid": "daf0f6c58a307cc33ef04dc34dc22cac6d4d721d",
        "id": "1XamKkGoPRtl"
      },
      "source": [
        "import math\n",
        "def plot_recommendations(idx_eval, N_recoms):\n",
        "    idx_rec, orig = get_N_rec(idx_eval, N_recoms)\n",
        "    fig = plt.figure(figsize=(10,10))\n",
        "    N_cols_rec = math.ceil(1 + len(idx_rec) / 2)\n",
        "    ax1 = fig.add_subplot(2, N_cols_rec,1)\n",
        "    ax1.set_title('Original item')\n",
        "    plot_image_pd(idx_to_pixseries(train_df, orig))\n",
        "    for i in range(len(idx_rec)):\n",
        "        ax_ = fig.add_subplot(2, N_cols_rec, i+2)\n",
        "        ax_.set_title('Recomendation #' + str(i+1))\n",
        "        plot_image_pd(idx_to_pixseries(train_df, idx_rec[i]))\n",
        "\n",
        "#draw 6 recommendations for idx 50\n",
        "plot_recommendations(50, 6)"
      ],
      "execution_count": null,
      "outputs": []
    },
    {
      "cell_type": "code",
      "metadata": {
        "trusted": true,
        "_uuid": "50697528f66374950c56c32c10e57bfe8cf5d6ba",
        "id": "PvAHwf0OPRtl"
      },
      "source": [
        "#draw 6 recommendations for idx 4\n",
        "plot_recommendations(4, 6)"
      ],
      "execution_count": null,
      "outputs": []
    },
    {
      "cell_type": "code",
      "metadata": {
        "trusted": true,
        "_uuid": "604c2cf1e323ca1f1347bc93138da809db86d055",
        "id": "bBs2ci0BPRtl"
      },
      "source": [
        "#draw 6 recommendations for idx 4242\n",
        "plot_recommendations(4242, 6)"
      ],
      "execution_count": null,
      "outputs": []
    },
    {
      "cell_type": "code",
      "metadata": {
        "trusted": true,
        "_uuid": "0141a8bc0a6724c58ee495437f79100fb02a45a5",
        "id": "FKIxWdcUPRtl"
      },
      "source": [
        "#draw 6 recommendations for idx 101\n",
        "plot_recommendations(101, 6)"
      ],
      "execution_count": null,
      "outputs": []
    },
    {
      "cell_type": "markdown",
      "metadata": {
        "id": "Ujp_R6-MRFES"
      },
      "source": [
        "#**Observations and Findings**#\n",
        "\n",
        "##Introduction##\n",
        "We have the label column, and then the 784 pixel colums (we are working with 28x28 images)\n",
        "\n",
        "These are the labels in the dataset:\n",
        "\n",
        "0 T-shirt/top\n",
        "\n",
        "1 Trouser\n",
        "\n",
        "2 Pullover\n",
        "\n",
        "3 Dress\n",
        "\n",
        "4 Coat\n",
        "\n",
        "5 Sandal\n",
        "\n",
        "6 Shirt\n",
        "\n",
        "7 Sneaker\n",
        "\n",
        "8 Bag\n",
        "\n",
        "9 Ankle boot\n",
        "\n",
        "##Visualization Obsverations##\n",
        "\n",
        "Then we have looked at the first image in the train dataset.\n",
        "It seems to be a t-shirt...it has some texture, but is very hard to see the details, as we are working with quite low-res images. Then we have looked at one example of each label in the dataset.Looking at first sight, it looks like non trivial task, as for example, shirt, coat, and pullover can be very similar at this resolution. Sandal, sneaker, and boot also seem very similar. Fianlly after looking at some more examples of each class, we checked if there are big intra-class variances. but how does each average label image look like? is the question we wanted to an answer for.\n",
        "\n",
        "##Baseline Model Results##\n",
        "\n",
        "We trained a logistic regression as a baseline model. This baseline model has a 85.13% accuracy score. We can see in the confusion matrix, that the main errors come from the tshirt, coat, pullover and tshirt classes. We looked at some of these errors closely. This baseline model has a 86.64 percent accuracy in the train set, slightly better than at validation set, but it does not seem to be any overfit. The previous output shows some true shirt predictions, in the first row, and in the second row we can see some mispredictions, and its true label. We can see that for example, the second and third mispredictions are a pullover, and a tshirt, but at first sight might seem like a shirt, at least in this image resolution. One issue related to this dataset, is that we do not have a huge data set, as we are talking of around 40K images. Then if we take a look at the 'learning curve' to assess if in the scenario of having more data the performance would improve.\n",
        "\n",
        "\n",
        "\n",
        "\n",
        "**In the next section we trained ensemble models, to see if we can improve the baseline model performance using ensemble models, specifically RandomForest and XGboost.**\n",
        "\n",
        "### Built Random Forest Model and XGboost Model###\n",
        "\n",
        "The RandomForest model achieves just 1 percentage point better accuracy at validation set compared to the baseline model. It might be improved as, it might have a little overfit, as the train set accuracy is around 4 points better. \n",
        "\n",
        "Later we combined the output of these three models, and saw if there is any improvement. Then saw how the prediction probabilities look like. We cannot see a big difference in shape looking at all labels at the same. Immediately we saw what happens if we focus in some specific labels. Looking label by label, we can see that all label probabilities shapes look pretty much the same, so no normalizations have be done to compare these probabilities. In this case, the average of all scores gives no better result. Tried to set some weights, giving a bit more importance to the xgb prediction, as it was the model with the best performance. Well, in this case we get a 0.1% accuracy improvement, that performance boost can result in a better model.\n",
        "\n",
        "##Dimensionality Reduction Approach##\n",
        "\n",
        "Even if this dataset contains low resolution images (resulting in a non too high dimensional problem), we used PCA and saw if there is any accuracy improvement in the resulting lower dimensional space. We also took a look at the explained variance of the 50 components we used to fit this PCA. We can see that the curve has an 'elbow' shape, meaning that the first components (first 10) explain most of the variance, while the rest explain much less variance.Here we can see the cumulative explained variance of the components. We then visualize the first 8 components of the transformation in the original image space. Looking at the components, we can see that for example, the first component shows a mix of sneaker, and shirt/pullover. The sneaker takes much lower values, while the shirt/pullover take positive values. We can see how on the top left side we have mainly sandals, sneakers, and boots. On the very bottom side we have trousers, that in these first two components are very similar to dresses. Bags are spread on the top side of the plot, some of them having collisions with some boots. On these two first components, t-shirts, pullovers, coats and shirts live in the same region.\n",
        "Looking at the component visualization, the second component had a 'negative' trouser on it. We can see now in this scatter plot, that trousers are in a region where the 2nd PCA component takes negative values, so that the 'reconstruction' from these PCA components will result in a 'positive' trouser.\n",
        "Then we saw a 3D visualization of the first three components.\n",
        "\n",
        "##CNN Model and Recommender System observations##\n",
        "\n",
        "Finally we trained a CNN model, using keras. This model, without much adjustment reaches a 93.1% accuracy socore in the validation set, 5.3 points better than the XGboost model, and almost 8 points better than the baseline model! Looking at the confusion matrix, we can see that there much less errors in all labels. Most of the errors belong to the shirt/tshirt/pullover/coat classes. Looking at the classification report, we can see that trouser, bag, and boot classes have almost a perfect performance. We can also confirm, that the tshirt, coat and shirt classes have the worst performance (but always above a 0.81 f1-score, which is not bad either!). Let's now run a visual inspection for all classes. Looking at the error inspection, we can see that some of the errors would be really hard to avoid, with the data we currently have. For example, looking at the errors in the boot label, we can see some sneakers and sandals that look quite much to a boot.\n",
        "\n"
      ]
    }
  ]
}